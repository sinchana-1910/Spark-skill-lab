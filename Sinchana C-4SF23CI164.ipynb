{
 "cells": [
  {
   "cell_type": "code",
   "execution_count": 0,
   "metadata": {
    "application/vnd.databricks.v1+cell": {
     "cellMetadata": {
      "byteLimit": 2048000,
      "rowLimit": 10000
     },
     "inputWidgets": {},
     "nuid": "21abad13-8331-488c-bf61-5f7c7139c470",
     "showTitle": false,
     "tableResultSettingsMap": {},
     "title": ""
    }
   },
   "outputs": [
    {
     "output_type": "stream",
     "name": "stdout",
     "output_type": "stream",
     "text": [
      "+---+--------------------+--------------------+--------------------+--------------------+----------+-----------+--------+------------+------+---+--------+----+-----------+------------+----------------+--------+-------+-------+--------------+-----------+\n|_c0|            track_id|             artists|          album_name|          track_name|popularity|duration_ms|explicit|danceability|energy|key|loudness|mode|speechiness|acousticness|instrumentalness|liveness|valence|  tempo|time_signature|track_genre|\n+---+--------------------+--------------------+--------------------+--------------------+----------+-----------+--------+------------+------+---+--------+----+-----------+------------+----------------+--------+-------+-------+--------------+-----------+\n|  0|5SuOikwiRyPMVoIQD...|         Gen Hoshino|              Comedy|              Comedy|        73|     230666|   False|       0.676| 0.461|  1|  -6.746|   0|      0.143|      0.0322|         1.01E-6|   0.358|  0.715| 87.917|           4.0|   acoustic|\n|  1|4qPNDBW1i3p13qLCt...|        Ben Woodward|    Ghost (Acoustic)|    Ghost - Acoustic|        55|     149610|   False|        0.42| 0.166|  1| -17.235|   1|     0.0763|       0.924|         5.56E-6|   0.101|  0.267| 77.489|           4.0|   acoustic|\n|  2|1iJBSr7s7jYXzM8EG...|Ingrid Michaelson...|      To Begin Again|      To Begin Again|        57|     210826|   False|       0.438| 0.359|  0|  -9.734|   1|     0.0557|        0.21|             0.0|   0.117|   0.12| 76.332|           4.0|   acoustic|\n|  3|6lfxq3CG4xtTiEg7o...|        Kina Grannis|Crazy Rich Asians...|Can't Help Fallin...|        71|     201933|   False|       0.266|0.0596|  0| -18.515|   1|     0.0363|       0.905|         7.07E-5|   0.132|  0.143| 181.74|           3.0|   acoustic|\n|  4|5vjLSffimiIP26QG5...|    Chord Overstreet|             Hold On|             Hold On|        82|     198853|   False|       0.618| 0.443|  2|  -9.681|   1|     0.0526|       0.469|             0.0|  0.0829|  0.167|119.949|           4.0|   acoustic|\n+---+--------------------+--------------------+--------------------+--------------------+----------+-----------+--------+------------+------+---+--------+----+-----------+------------+----------------+--------+-------+-------+--------------+-----------+\nonly showing top 5 rows\n"
     ]
    }
   ],
   "source": [
    "#Read CSV dataset with PERMISSIVE mode to capture malformed records\n",
    "spark\n",
    "df_raw = spark.read\\\n",
    "    .option(\"header\", \"true\") \\\n",
    "    .option(\"inferSchema\", \"true\") \\\n",
    "    .option(\"mode\", \"PERMISSIVE\") \\\n",
    "    .csv(\"/Volumes/workspace/sinchana/sinchana1/dataset.csv\")\n",
    "df_raw.show(5)\n"
   ]
  },
  {
   "cell_type": "code",
   "execution_count": 0,
   "metadata": {
    "application/vnd.databricks.v1+cell": {
     "cellMetadata": {
      "byteLimit": 2048000,
      "rowLimit": 10000
     },
     "inputWidgets": {},
     "nuid": "931742d6-5bd0-4574-a959-77c44efa5dc8",
     "showTitle": false,
     "tableResultSettingsMap": {},
     "title": ""
    }
   },
   "outputs": [
    {
     "output_type": "stream",
     "name": "stdout",
     "output_type": "stream",
     "text": [
      "Columns: ['_c0', 'track_id', 'artists', 'album_name', 'track_name', 'popularity', 'duration_ms', 'explicit', 'danceability', 'energy', 'key', 'loudness', 'mode', 'speechiness', 'acousticness', 'instrumentalness', 'liveness', 'valence', 'tempo', 'time_signature', 'track_genre']\nRow count: 114000\nroot\n |-- _c0: integer (nullable = true)\n |-- track_id: string (nullable = true)\n |-- artists: string (nullable = true)\n |-- album_name: string (nullable = true)\n |-- track_name: string (nullable = true)\n |-- popularity: string (nullable = true)\n |-- duration_ms: string (nullable = true)\n |-- explicit: string (nullable = true)\n |-- danceability: string (nullable = true)\n |-- energy: string (nullable = true)\n |-- key: string (nullable = true)\n |-- loudness: string (nullable = true)\n |-- mode: string (nullable = true)\n |-- speechiness: string (nullable = true)\n |-- acousticness: string (nullable = true)\n |-- instrumentalness: double (nullable = true)\n |-- liveness: string (nullable = true)\n |-- valence: string (nullable = true)\n |-- tempo: double (nullable = true)\n |-- time_signature: double (nullable = true)\n |-- track_genre: string (nullable = true)\n\nNumber of columns: 21\n"
     ]
    }
   ],
   "source": [
    "# a. Print all column names\n",
    "print(\"Columns:\", df_raw.columns)\n",
    "# b. Count total rows\n",
    "print(\"Row count:\", df_raw.count())\n",
    "# c. Display schema structure\n",
    "df_raw.printSchema()\n",
    "# d. Print the number of columns\n",
    "print(\"Number of columns:\", len(df_raw.columns))"
   ]
  },
  {
   "cell_type": "code",
   "execution_count": 0,
   "metadata": {
    "application/vnd.databricks.v1+cell": {
     "cellMetadata": {
      "byteLimit": 2048000,
      "rowLimit": 10000
     },
     "inputWidgets": {},
     "nuid": "22ea8f09-dd2f-4949-b8b3-ef97fbb69bda",
     "showTitle": false,
     "tableResultSettingsMap": {},
     "title": ""
    }
   },
   "outputs": [
    {
     "output_type": "stream",
     "name": "stdout",
     "output_type": "stream",
     "text": [
      "No '_corrupt_record' column detected — no malformed records or clean dataset.\n"
     ]
    }
   ],
   "source": [
    "from pyspark.sql.functions import col\n",
    "\n",
    "if \"_corrupt_record\" in df_raw.columns:\n",
    "    corrupt = df_raw.filter(col(\"_corrupt_record\").isNotNull())\n",
    "    print(\"Corrupted records found:\")\n",
    "    corrupt.show(truncate=False)\n",
    "else:\n",
    "    print(\"No '_corrupt_record' column detected — no malformed records or clean dataset.\")"
   ]
  },
  {
   "cell_type": "code",
   "execution_count": 0,
   "metadata": {
    "application/vnd.databricks.v1+cell": {
     "cellMetadata": {
      "byteLimit": 2048000,
      "rowLimit": 10000
     },
     "inputWidgets": {},
     "nuid": "bb761fb3-cb1c-4b4b-9a92-23869ea9556a",
     "showTitle": false,
     "tableResultSettingsMap": {},
     "title": ""
    }
   },
   "outputs": [
    {
     "output_type": "stream",
     "name": "stdout",
     "output_type": "stream",
     "text": [
      "root\n |-- Id: integer (nullable = true)\n |-- sepal_length: double (nullable = true)\n |-- sepal_width: double (nullable = true)\n |-- petal_length: double (nullable = true)\n |-- petal_width: double (nullable = true)\n |-- species: string (nullable = true)\n\n"
     ]
    }
   ],
   "source": [
    "from pyspark.sql.types import StructType, StructField, StringType, DoubleType, IntegerType\n",
    "\n",
    "# Define explicit schema for your dataset\n",
    "custom_schema = StructType([\n",
    "    StructField(\"Id\", IntegerType(), True),\n",
    "    StructField(\"sepal_length\", DoubleType(), True),\n",
    "    StructField(\"sepal_width\", DoubleType(), True),\n",
    "    StructField(\"petal_length\", DoubleType(), True),\n",
    "    StructField(\"petal_width\", DoubleType(), True),\n",
    "    StructField(\"species\", StringType(), True)\n",
    "])\n",
    "\n",
    "df = spark.read \\\n",
    "    .option(\"header\", \"true\") \\\n",
    "    .option(\"mode\", \"PERMISSIVE\") \\\n",
    "    .schema(custom_schema) \\\n",
    "    .csv(\"/Volumes/workspace/sinchana/sinchana1/dataset.csv\")\n",
    "df.printSchema()"
   ]
  },
  {
   "cell_type": "code",
   "execution_count": 0,
   "metadata": {
    "application/vnd.databricks.v1+cell": {
     "cellMetadata": {
      "byteLimit": 2048000,
      "rowLimit": 10000
     },
     "inputWidgets": {},
     "nuid": "9ec05129-93c7-42a2-803d-d5b1ce255ff5",
     "showTitle": false,
     "tableResultSettingsMap": {},
     "title": ""
    }
   },
   "outputs": [
    {
     "output_type": "stream",
     "name": "stdout",
     "output_type": "stream",
     "text": [
      "Columns: ['Id', 'sepal_length', 'sepal_width', 'petal_length', 'petal_width', 'species']\n"
     ]
    },
    {
     "output_type": "display_data",
     "data": {
      "text/html": [
       "<style scoped>\n",
       "  .table-result-container {\n",
       "    max-height: 300px;\n",
       "    overflow: auto;\n",
       "  }\n",
       "  table, th, td {\n",
       "    border: 1px solid black;\n",
       "    border-collapse: collapse;\n",
       "  }\n",
       "  th, td {\n",
       "    padding: 5px;\n",
       "  }\n",
       "  th {\n",
       "    text-align: left;\n",
       "  }\n",
       "</style><div class='table-result-container'><table class='table-result'><thead style='background-color: white'><tr><th>Id</th><th>sepal_length</th><th>sepal_width</th><th>petal_width</th><th>song_title</th><th>duration_min</th><th>dataset_name</th><th>popularity_score</th></tr></thead><tbody><tr><td>0</td><td>null</td><td>null</td><td>null</td><td>73</td><td>null</td><td>sinchana1/dataset.csv</td><td>null</td></tr><tr><td>1</td><td>null</td><td>null</td><td>null</td><td>55</td><td>null</td><td>sinchana1/dataset.csv</td><td>null</td></tr><tr><td>2</td><td>null</td><td>null</td><td>null</td><td>57</td><td>null</td><td>sinchana1/dataset.csv</td><td>null</td></tr><tr><td>3</td><td>null</td><td>null</td><td>null</td><td>71</td><td>null</td><td>sinchana1/dataset.csv</td><td>null</td></tr><tr><td>4</td><td>null</td><td>null</td><td>null</td><td>82</td><td>null</td><td>sinchana1/dataset.csv</td><td>null</td></tr></tbody></table></div>"
      ]
     },
     "metadata": {
      "application/vnd.databricks.v1+output": {
       "addedWidgets": {},
       "aggData": [],
       "aggError": "",
       "aggOverflow": false,
       "aggSchema": [],
       "aggSeriesLimitReached": false,
       "aggType": "",
       "arguments": {},
       "columnCustomDisplayInfos": {},
       "data": [
        [
         0,
         null,
         null,
         null,
         "73",
         null,
         "sinchana1/dataset.csv",
         null
        ],
        [
         1,
         null,
         null,
         null,
         "55",
         null,
         "sinchana1/dataset.csv",
         null
        ],
        [
         2,
         null,
         null,
         null,
         "57",
         null,
         "sinchana1/dataset.csv",
         null
        ],
        [
         3,
         null,
         null,
         null,
         "71",
         null,
         "sinchana1/dataset.csv",
         null
        ],
        [
         4,
         null,
         null,
         null,
         "82",
         null,
         "sinchana1/dataset.csv",
         null
        ]
       ],
       "datasetInfos": [],
       "dbfsResultPath": null,
       "isJsonSchema": true,
       "metadata": {},
       "overflow": false,
       "plotOptions": {
        "customPlotOptions": {},
        "displayType": "table",
        "pivotAggregation": null,
        "pivotColumns": null,
        "xColumns": null,
        "yColumns": null
       },
       "removedWidgets": [],
       "schema": [
        {
         "metadata": "{}",
         "name": "Id",
         "type": "\"integer\""
        },
        {
         "metadata": "{}",
         "name": "sepal_length",
         "type": "\"double\""
        },
        {
         "metadata": "{}",
         "name": "sepal_width",
         "type": "\"double\""
        },
        {
         "metadata": "{}",
         "name": "petal_width",
         "type": "\"double\""
        },
        {
         "metadata": "{}",
         "name": "song_title",
         "type": "\"string\""
        },
        {
         "metadata": "{}",
         "name": "duration_min",
         "type": "\"double\""
        },
        {
         "metadata": "{}",
         "name": "dataset_name",
         "type": "\"string\""
        },
        {
         "metadata": "{}",
         "name": "popularity_score",
         "type": "\"double\""
        }
       ],
       "type": "table"
      }
     },
     "output_type": "display_data"
    }
   ],
   "source": [
    "from pyspark.sql.functions import col, round, lit\n",
    "from pyspark.sql.types import DoubleType\n",
    "\n",
    "# Check the actual columns in df\n",
    "print(\"Columns:\", df.columns)\n",
    "\n",
    "# Adjust column transformations based on available columns in df\n",
    "df_transformed = (\n",
    "    df\n",
    "    .withColumnRenamed(\"species\", \"song_title\")  # Example: renaming 'species' to 'song_title'\n",
    "    .withColumn(\"duration_min\", round(col(\"sepal_length\") / 60, 2))  # Example: converting 'sepal_length' to minutes\n",
    "    .withColumn(\"dataset_name\", lit(\"sinchana1/dataset.csv\"))\n",
    "    .withColumn(\"popularity_score\", col(\"sepal_width\").cast(DoubleType()))  # Example: casting 'sepal_width'\n",
    "    .drop(\"petal_length\")  # Example: dropping 'petal_length'\n",
    ")\n",
    "\n",
    "display(df_transformed.limit(5))"
   ]
  },
  {
   "cell_type": "code",
   "execution_count": 0,
   "metadata": {
    "application/vnd.databricks.v1+cell": {
     "cellMetadata": {
      "byteLimit": 2048000,
      "rowLimit": 10000
     },
     "inputWidgets": {},
     "nuid": "2c783b3c-6a7a-47cf-8505-fe4b35bcacd8",
     "showTitle": false,
     "tableResultSettingsMap": {},
     "title": ""
    }
   },
   "outputs": [
    {
     "output_type": "stream",
     "name": "stdout",
     "output_type": "stream",
     "text": [
      "Null counts by column:\nId: 0\nsepal_length: 114000\nsepal_width: 113955\npetal_width: 113828\nsong_title: 0\nduration_min: 114000\ndataset_name: 0\npopularity_score: 113955\n"
     ]
    }
   ],
   "source": [
    "# Identify nulls in each column\n",
    "from pyspark.sql.functions import col\n",
    "print(\"Null counts by column:\")\n",
    "for c in df_transformed.columns:\n",
    "    n_null = df_transformed.filter(col(c).isNull()).count()\n",
    "    print(f\"{c}: {n_null}\")\n",
    "# Fill or drop nulls (if any)\n",
    "df_clean = df_transformed.na.fill({\n",
    "    \"sepal_length\": 0.0,\n",
    "    \"sepal_width\": 0.0,\n",
    "    \"petal_width\": 0.0,\n",
    "    \"duration_min\": 0.0,\n",
    "    \"popularity_score\": 0.0,\n",
    "    \"song_title\": \"\",\n",
    "    \"dataset_name\": \"\"\n",
    "})"
   ]
  },
  {
   "cell_type": "code",
   "execution_count": 0,
   "metadata": {
    "application/vnd.databricks.v1+cell": {
     "cellMetadata": {
      "byteLimit": 2048000,
      "rowLimit": 10000
     },
     "inputWidgets": {},
     "nuid": "d5f2a8af-dfa6-48d3-9e88-0a67a66343e4",
     "showTitle": false,
     "tableResultSettingsMap": {},
     "title": ""
    }
   },
   "outputs": [
    {
     "output_type": "stream",
     "name": "stdout",
     "output_type": "stream",
     "text": [
      "Row count before removing duplicates: 114000\nDuplicate records count: 0\n"
     ]
    },
    {
     "output_type": "display_data",
     "data": {
      "text/html": [
       "<style scoped>\n",
       "  .table-result-container {\n",
       "    max-height: 300px;\n",
       "    overflow: auto;\n",
       "  }\n",
       "  table, th, td {\n",
       "    border: 1px solid black;\n",
       "    border-collapse: collapse;\n",
       "  }\n",
       "  th, td {\n",
       "    padding: 5px;\n",
       "  }\n",
       "  th {\n",
       "    text-align: left;\n",
       "  }\n",
       "</style><div class='table-result-container'><table class='table-result'><thead style='background-color: white'><tr><th>Id</th><th>sepal_length</th><th>sepal_width</th><th>petal_width</th><th>song_title</th><th>duration_min</th><th>dataset_name</th><th>popularity_score</th></tr></thead><tbody></tbody></table></div>"
      ]
     },
     "metadata": {
      "application/vnd.databricks.v1+output": {
       "addedWidgets": {},
       "aggData": [],
       "aggError": "",
       "aggOverflow": false,
       "aggSchema": [],
       "aggSeriesLimitReached": false,
       "aggType": "",
       "arguments": {},
       "columnCustomDisplayInfos": {},
       "data": [],
       "datasetInfos": [],
       "dbfsResultPath": null,
       "isJsonSchema": true,
       "metadata": {},
       "overflow": false,
       "plotOptions": {
        "customPlotOptions": {},
        "displayType": "table",
        "pivotAggregation": null,
        "pivotColumns": null,
        "xColumns": null,
        "yColumns": null
       },
       "removedWidgets": [],
       "schema": [
        {
         "metadata": "{}",
         "name": "Id",
         "type": "\"integer\""
        },
        {
         "metadata": "{}",
         "name": "sepal_length",
         "type": "\"double\""
        },
        {
         "metadata": "{}",
         "name": "sepal_width",
         "type": "\"double\""
        },
        {
         "metadata": "{}",
         "name": "petal_width",
         "type": "\"double\""
        },
        {
         "metadata": "{}",
         "name": "song_title",
         "type": "\"string\""
        },
        {
         "metadata": "{}",
         "name": "duration_min",
         "type": "\"double\""
        },
        {
         "metadata": "{}",
         "name": "dataset_name",
         "type": "\"string\""
        },
        {
         "metadata": "{}",
         "name": "popularity_score",
         "type": "\"double\""
        }
       ],
       "type": "table"
      }
     },
     "output_type": "display_data"
    },
    {
     "output_type": "stream",
     "name": "stdout",
     "output_type": "stream",
     "text": [
      "After removing duplicates: 114000\n"
     ]
    }
   ],
   "source": [
    "print(\"Row count before removing duplicates:\", df_clean.count())\n",
    "df_duplicates = df_clean.subtract(df_clean.dropDuplicates())\n",
    "print(\"Duplicate records count:\", df_duplicates.count())\n",
    "display(df_duplicates)\n",
    "df_nodup = df_clean.dropDuplicates()\n",
    "print(\"After removing duplicates:\", df_nodup.count())"
   ]
  },
  {
   "cell_type": "code",
   "execution_count": 0,
   "metadata": {
    "application/vnd.databricks.v1+cell": {
     "cellMetadata": {
      "byteLimit": 2048000,
      "rowLimit": 10000
     },
     "inputWidgets": {},
     "nuid": "b817bc56-0c46-4454-b20b-af942fa287d3",
     "showTitle": false,
     "tableResultSettingsMap": {},
     "title": ""
    }
   },
   "outputs": [
    {
     "output_type": "stream",
     "name": "stdout",
     "output_type": "stream",
     "text": [
      "Processed data saved to: /Volumes/workspace/sinchana/sinchana1/iris_cleaned_parquet\n"
     ]
    },
    {
     "output_type": "display_data",
     "data": {
      "text/html": [
       "<style scoped>\n",
       "  .table-result-container {\n",
       "    max-height: 300px;\n",
       "    overflow: auto;\n",
       "  }\n",
       "  table, th, td {\n",
       "    border: 1px solid black;\n",
       "    border-collapse: collapse;\n",
       "  }\n",
       "  th, td {\n",
       "    padding: 5px;\n",
       "  }\n",
       "  th {\n",
       "    text-align: left;\n",
       "  }\n",
       "</style><div class='table-result-container'><table class='table-result'><thead style='background-color: white'><tr><th>Id</th><th>sepal_length</th><th>sepal_width</th><th>petal_width</th><th>song_title</th><th>duration_min</th><th>dataset_name</th><th>popularity_score</th></tr></thead><tbody><tr><td>3261</td><td>0.0</td><td>0.0</td><td>0.0</td><td>67</td><td>0.0</td><td>sinchana1/dataset.csv</td><td>0.0</td></tr><tr><td>3801</td><td>0.0</td><td>0.0</td><td>0.0</td><td>60</td><td>0.0</td><td>sinchana1/dataset.csv</td><td>0.0</td></tr><tr><td>4108</td><td>0.0</td><td>0.0</td><td>0.0</td><td>57</td><td>0.0</td><td>sinchana1/dataset.csv</td><td>0.0</td></tr><tr><td>4225</td><td>0.0</td><td>0.0</td><td>0.0</td><td>63</td><td>0.0</td><td>sinchana1/dataset.csv</td><td>0.0</td></tr><tr><td>4416</td><td>0.0</td><td>0.0</td><td>0.0</td><td>51</td><td>0.0</td><td>sinchana1/dataset.csv</td><td>0.0</td></tr></tbody></table></div>"
      ]
     },
     "metadata": {
      "application/vnd.databricks.v1+output": {
       "addedWidgets": {},
       "aggData": [],
       "aggError": "",
       "aggOverflow": false,
       "aggSchema": [],
       "aggSeriesLimitReached": false,
       "aggType": "",
       "arguments": {},
       "columnCustomDisplayInfos": {},
       "data": [
        [
         3261,
         0.0,
         0.0,
         0.0,
         "67",
         0.0,
         "sinchana1/dataset.csv",
         0.0
        ],
        [
         3801,
         0.0,
         0.0,
         0.0,
         "60",
         0.0,
         "sinchana1/dataset.csv",
         0.0
        ],
        [
         4108,
         0.0,
         0.0,
         0.0,
         "57",
         0.0,
         "sinchana1/dataset.csv",
         0.0
        ],
        [
         4225,
         0.0,
         0.0,
         0.0,
         "63",
         0.0,
         "sinchana1/dataset.csv",
         0.0
        ],
        [
         4416,
         0.0,
         0.0,
         0.0,
         "51",
         0.0,
         "sinchana1/dataset.csv",
         0.0
        ]
       ],
       "datasetInfos": [],
       "dbfsResultPath": null,
       "isJsonSchema": true,
       "metadata": {},
       "overflow": false,
       "plotOptions": {
        "customPlotOptions": {},
        "displayType": "table",
        "pivotAggregation": null,
        "pivotColumns": null,
        "xColumns": null,
        "yColumns": null
       },
       "removedWidgets": [],
       "schema": [
        {
         "metadata": "{}",
         "name": "Id",
         "type": "\"integer\""
        },
        {
         "metadata": "{}",
         "name": "sepal_length",
         "type": "\"double\""
        },
        {
         "metadata": "{}",
         "name": "sepal_width",
         "type": "\"double\""
        },
        {
         "metadata": "{}",
         "name": "petal_width",
         "type": "\"double\""
        },
        {
         "metadata": "{}",
         "name": "song_title",
         "type": "\"string\""
        },
        {
         "metadata": "{}",
         "name": "duration_min",
         "type": "\"double\""
        },
        {
         "metadata": "{}",
         "name": "dataset_name",
         "type": "\"string\""
        },
        {
         "metadata": "{}",
         "name": "popularity_score",
         "type": "\"double\""
        }
       ],
       "type": "table"
      }
     },
     "output_type": "display_data"
    }
   ],
   "source": [
    "output_path = \"/Volumes/workspace/sinchana/sinchana1/iris_cleaned_parquet\"\n",
    "\n",
    "df_nodup.write.mode(\"overwrite\").parquet(output_path)\n",
    "\n",
    "print(f\"Processed data saved to: {output_path}\")\n",
    "\n",
    "# Display sample data from the saved parquet file\n",
    "df_sample = spark.read.parquet(output_path).limit(5)\n",
    "display(df_sample)"
   ]
  }
 ],
 "metadata": {
  "application/vnd.databricks.v1+notebook": {
   "computePreferences": null,
   "dashboards": [],
   "environmentMetadata": {
    "base_environment": "",
    "environment_version": "4"
   },
   "inputWidgetPreferences": null,
   "language": "python",
   "notebookMetadata": {
    "pythonIndentUnit": 4
   },
   "notebookName": "Sinchana C-4SF23CI164",
   "widgets": {}
  },
  "language_info": {
   "name": "python"
  }
 },
 "nbformat": 4,
 "nbformat_minor": 0
}